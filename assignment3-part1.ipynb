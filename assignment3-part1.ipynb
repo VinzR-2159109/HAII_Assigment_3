{
 "cells": [
  {
   "cell_type": "code",
   "execution_count": null,
   "metadata": {},
   "outputs": [
    {
     "name": "stdout",
     "output_type": "stream",
     "text": [
      "Path to dataset files: C:\\Users\\maxim\\.cache\\kagglehub\\datasets\\cdc\\mortality\\versions\\2\n"
     ]
    }
   ],
   "source": [
    "import kagglehub\n",
    "import pandas as pd\n",
    "import matplotlib.pyplot as plt\n",
    "import numpy as np\n",
    "from ipywidgets import interact, IntSlider, SelectMultiple\n",
    "\n",
    "path = kagglehub.dataset_download(\"cdc/mortality\")\n",
    "print(\"Path to dataset files:\", path)\n",
    "\n",
    "df = pd.read_csv(f\"{path}/2015_data.csv\", low_memory=False)\n",
    "df = df[df[\"detail_age_type\"] == 1]\n",
    "\n",
    "min_age = 0\n",
    "max_age = min(df[\"detail_age\"].max(), 115) # Er zat een leeftijd van 999 in de dataset => max 115\n"
   ]
  },
  {
   "cell_type": "code",
   "execution_count": null,
   "metadata": {},
   "outputs": [
    {
     "data": {
      "application/vnd.jupyter.widget-view+json": {
       "model_id": "282f78ef7b4747b0a416ee502e0cc95a",
       "version_major": 2,
       "version_minor": 0
      },
      "text/plain": [
       "interactive(children=(IntSlider(value=1, description='Bin size', max=20, min=1), Output()), _dom_classes=('wid…"
      ]
     },
     "metadata": {},
     "output_type": "display_data"
    },
    {
     "data": {
      "text/plain": [
       "<function __main__.plot_death_counts(bin_size: int = 1)>"
      ]
     },
     "execution_count": 17,
     "metadata": {},
     "output_type": "execute_result"
    }
   ],
   "source": [
    "# ------------------- A: death count by age -------------------\n",
    "plt.figure(figsize=(20, 10))\n",
    "plt.hist(df[\"detail_age\"], bins=range(min_age, max_age + 1), edgecolor='black')\n",
    "\n",
    "# Labels and title\n",
    "plt.xlabel(\"Age\")\n",
    "plt.ylabel(\"Number of Deaths\")\n",
    "plt.title(\"Death Counts by Age\")\n",
    "plt.xticks(range(min_age, max_age + 1, 5))\n",
    "\n",
    "plt.savefig(\"death_counts_by_age.png\")\n",
    "plt.close()\n",
    "\n",
    "def plot_death_counts(bin_size: int = 1):\n",
    "    plt.figure(figsize=(20, 10))\n",
    "    bins = range(min_age, max_age + 1, bin_size)\n",
    "    plt.hist(df[\"detail_age\"], bins=bins, edgecolor='black')\n",
    "    plt.xlabel(\"Age\")\n",
    "    plt.ylabel(\"Number of Deaths\")\n",
    "    plt.title(\"Death Counts by Age\")\n",
    "    plt.xticks(range(min_age, max_age + 1, 5))\n",
    "    plt.show()\n",
    "\n",
    "interact(plot_death_counts, bin_size=IntSlider(min=1, max=20, step=1, value=1, description=\"Bin size\"))"
   ]
  },
  {
   "cell_type": "code",
   "execution_count": 18,
   "metadata": {},
   "outputs": [
    {
     "data": {
      "application/vnd.jupyter.widget-view+json": {
       "model_id": "5cb1d4ebb5754cdba4f750b8a3342a12",
       "version_major": 2,
       "version_minor": 0
      },
      "text/plain": [
       "interactive(children=(IntSlider(value=1, description='Bin size', max=20, min=1), Output()), _dom_classes=('wid…"
      ]
     },
     "metadata": {},
     "output_type": "display_data"
    },
    {
     "data": {
      "text/plain": [
       "<function __main__.plot_flu_deaths(bin_size: int = 1)>"
      ]
     },
     "execution_count": 18,
     "metadata": {},
     "output_type": "execute_result"
    }
   ],
   "source": [
    "# ------------------- B: the flu by age-------------------\n",
    "flu_code = 27 \n",
    "df_flu = df[df[\"39_cause_recode\"] == flu_code]\n",
    "\n",
    "plt.figure(figsize=(20, 10))\n",
    "plt.hist(df_flu[\"detail_age\"], bins=range(min_age, max_age + 1), edgecolor='black')\n",
    "\n",
    "plt.xlabel(\"Age\")\n",
    "plt.ylabel(\"Number of Flu Deaths\")\n",
    "plt.title(\"Deaths Due to Flu by Age\")\n",
    "plt.xticks(range(min_age, max_age + 1, 5))\n",
    "\n",
    "plt.savefig(\"flu_deaths_by_age.png\")\n",
    "plt.close()\n",
    "\n",
    "def plot_flu_deaths(bin_size: int = 1):\n",
    "    plt.figure(figsize=(20, 10))\n",
    "    bins = range(min_age, max_age + 1, bin_size)\n",
    "    plt.hist(df_flu[\"detail_age\"], bins=bins, edgecolor='black')\n",
    "    plt.xlabel(\"Age\")\n",
    "    plt.ylabel(\"Number of Flu Deaths\")\n",
    "    plt.title(\"Deaths Due to Flu by Age\")\n",
    "    plt.xticks(range(min_age, max_age + 1, 5))\n",
    "    plt.show()\n",
    "\n",
    "\n",
    "interact(plot_flu_deaths, bin_size=IntSlider(min=1, max=20, step=1, value=1, description=\"Bin size\"))"
   ]
  },
  {
   "cell_type": "code",
   "execution_count": null,
   "metadata": {},
   "outputs": [
    {
     "data": {
      "application/vnd.jupyter.widget-view+json": {
       "model_id": "eb51e80df8904dca85d489605eac6e9d",
       "version_major": 2,
       "version_minor": 0
      },
      "text/plain": [
       "interactive(children=(IntSlider(value=1, description='Bin size', max=20, min=1), Output()), _dom_classes=('wid…"
      ]
     },
     "metadata": {},
     "output_type": "display_data"
    },
    {
     "data": {
      "text/plain": [
       "<function __main__.plot_motor_vehicle_deaths(bin_size: int = 1)>"
      ]
     },
     "execution_count": 19,
     "metadata": {},
     "output_type": "execute_result"
    }
   ],
   "source": [
    "# ------------------- E.1: death count by Motor Vehicle Accident -------------------\n",
    "motor_vehicle_code = 38\n",
    "df_motor_vehicle = df[df[\"39_cause_recode\"] == motor_vehicle_code]\n",
    "\n",
    "plt.figure(figsize=(20, 10))\n",
    "plt.hist(df_motor_vehicle[\"detail_age\"], bins=range(min_age, max_age + 2), edgecolor='black')\n",
    "plt.xlabel(\"Age\")\n",
    "plt.ylabel(\"Number of Deaths\")\n",
    "plt.title(\"Deaths Due to Motor Vehicle Accidents by Age\")\n",
    "plt.xticks(range(min_age, max_age + 1, 5))\n",
    "\n",
    "plt.savefig(\"motor_vehicle_accident_deaths_by_age.png\")\n",
    "plt.close()\n",
    "\n",
    "def plot_motor_vehicle_deaths(bin_size: int = 1):\n",
    "    plt.figure(figsize=(20, 10))\n",
    "    bins = range(min_age, max_age + 2, bin_size)\n",
    "    plt.hist(df_motor_vehicle[\"detail_age\"], bins=bins, edgecolor='black')\n",
    "    plt.xlabel(\"Age\")\n",
    "    plt.ylabel(\"Number of Deaths\")\n",
    "    plt.title(\"Deaths Due to Motor Vehicle Accidents by Age\")\n",
    "    plt.xticks(range(min_age, max_age + 1, 5))\n",
    "    plt.show()\n",
    "\n",
    "\n",
    "interact(plot_motor_vehicle_deaths, bin_size=IntSlider(min=1, max=20, step=1, value=1, description=\"Bin size\"))"
   ]
  },
  {
   "cell_type": "code",
   "execution_count": 23,
   "metadata": {},
   "outputs": [
    {
     "data": {
      "application/vnd.jupyter.widget-view+json": {
       "model_id": "dfd38262696a45bea8c18c84f2c556e0",
       "version_major": 2,
       "version_minor": 0
      },
      "text/plain": [
       "interactive(children=(IntSlider(value=1, description='Bin size', max=20, min=1), Output()), _dom_classes=('wid…"
      ]
     },
     "metadata": {},
     "output_type": "display_data"
    },
    {
     "data": {
      "text/plain": [
       "<function __main__.plot_drug_use_deaths(bin_size: int = 1)>"
      ]
     },
     "execution_count": 23,
     "metadata": {},
     "output_type": "execute_result"
    }
   ],
   "source": [
    "# ------------------- E.2: death count by Drug Use -------------------\n",
    "drug_icd_codes = [\"X40\", \"X41\", \"X42\", \"X43\", \"X44\",  # Accidental poisoning by drugs\n",
    "                  \"X60\", \"X61\", \"X62\", \"X63\", \"X64\",  # Intentional self-poisoning\n",
    "                  \"Y10\", \"Y11\", \"Y12\", \"Y13\", \"Y14\"]  # Undetermined drug poisoning\n",
    "\n",
    "df_drug_use = df[df[\"icd_code_10th_revision\"].isin(drug_icd_codes)]\n",
    "\n",
    "plt.figure(figsize=(20, 10))\n",
    "plt.hist(df_drug_use[\"detail_age\"], bins=range(min_age, max_age + 1), edgecolor='black')\n",
    "plt.xlabel(\"Age\")\n",
    "plt.ylabel(\"Number of Deaths\")\n",
    "plt.title(\"Deaths Due to Drug Use by Age\")\n",
    "plt.xticks(range(min_age, max_age + 1, 5))\n",
    "\n",
    "plt.savefig(\"drug_use_deaths_by_age.png\")\n",
    "plt.close()\n",
    "\n",
    "def plot_drug_use_deaths(bin_size: int = 1):\n",
    "    plt.figure(figsize=(20, 10))\n",
    "    bins = range(min_age, max_age + 1, bin_size)\n",
    "    plt.hist(df_drug_use[\"detail_age\"], bins=bins, edgecolor='black')\n",
    "    plt.xlabel(\"Age\")\n",
    "    plt.ylabel(\"Number of Deaths\")\n",
    "    plt.title(\"Deaths Due to Drug Use by Age\")\n",
    "    plt.xticks(range(min_age, max_age + 1, 5))\n",
    "    plt.show()\n",
    "\n",
    "\n",
    "interact(plot_drug_use_deaths, bin_size=IntSlider(min=1, max=20, step=1, value=1, description=\"Bin size\"))"
   ]
  },
  {
   "cell_type": "code",
   "execution_count": 24,
   "metadata": {},
   "outputs": [
    {
     "data": {
      "application/vnd.jupyter.widget-view+json": {
       "model_id": "15f3530878ee4035b1aa577fd337a7d5",
       "version_major": 2,
       "version_minor": 0
      },
      "text/plain": [
       "interactive(children=(SelectMultiple(description='Causes', index=(0, 1, 2, 3), options=('HIV', 'Leukemia', \"Al…"
      ]
     },
     "metadata": {},
     "output_type": "display_data"
    },
    {
     "data": {
      "text/plain": [
       "<function __main__.plot_comparison(selected_causes, min_range: int = 0, max_range: int = 115)>"
      ]
     },
     "execution_count": 24,
     "metadata": {},
     "output_type": "execute_result"
    }
   ],
   "source": [
    "# ------------------- G: Comparision Visualization -------------------\n",
    "cause_codes = {\n",
    "    \"HIV\": 3,\n",
    "    \"Leukemia\": 14,\n",
    "    \"Alzheimer's disease\": 17,\n",
    "    \"suicide\": 40\n",
    "}\n",
    "colors = [\"blue\", \"red\", \"green\", \"purple\"]\n",
    "\n",
    "age_distribution = {}\n",
    "\n",
    "for cause, code in cause_codes.items():\n",
    "    df_cause = df[df[\"39_cause_recode\"] == code]\n",
    "    age_counts, _ = np.histogram(df_cause[\"detail_age\"], bins=range(min_age, max_age + 1))\n",
    "    age_distribution[cause] = age_counts\n",
    "\n",
    "plt.figure(figsize=(12, 6))\n",
    "\n",
    "colors = [\"blue\", \"red\", \"green\", \"purple\"]\n",
    "for (cause, counts), color in zip(age_distribution.items(), colors):\n",
    "    plt.plot(range(min_age, max_age), counts, label=cause, color=color, linewidth=2)\n",
    "\n",
    "plt.xlabel(\"Age\")\n",
    "plt.ylabel(\"Number of Deaths\")\n",
    "plt.title(\"Comparison of Death Causes by Age\")\n",
    "plt.legend()\n",
    "\n",
    "plt.savefig(\"comparison.png\")\n",
    "plt.close()\n",
    "\n",
    "def plot_comparison(selected_causes, min_range: int = 0, max_range: int = max_age):\n",
    "    if min_range >= max_range:\n",
    "        print(\"Invalid range: please choose a min_range less than max_range\")\n",
    "        return\n",
    "    \n",
    "    plt.figure(figsize=(12, 6))\n",
    "    \n",
    "    for cause in selected_causes:\n",
    "        code = cause_codes[cause]\n",
    "        df_cause = df[df[\"39_cause_recode\"] == code]\n",
    "        bins = range(min_range, max_range + 1)\n",
    "        counts, _ = np.histogram(df_cause[\"detail_age\"], bins=bins)\n",
    "        xs = list(range(min_range, max_range))\n",
    "        idx = list(cause_codes.keys()).index(cause)\n",
    "        plt.plot(xs, counts, label=cause, color=colors[idx], linewidth=2)\n",
    "    \n",
    "    plt.xlabel(\"Age\")\n",
    "    plt.ylabel(\"Number of Deaths\")\n",
    "    plt.title(\"Comparison of Death Causes by Age\")\n",
    "    plt.legend()\n",
    "    plt.show()\n",
    "\n",
    "\n",
    "interact(plot_comparison,\n",
    "         selected_causes=SelectMultiple(options=list(cause_codes.keys()),\n",
    "                                          value=list(cause_codes.keys()),\n",
    "                                          description=\"Causes\"),\n",
    "         min_range=IntSlider(min=0, max=max_age-1, step=1, value=0, description=\"Min age\"),\n",
    "         max_range=IntSlider(min=1, max=max_age, step=1, value=max_age, description=\"Max age\"))\n",
    "\n",
    "\n",
    "\n",
    "# Why This Design Works?\n",
    "#     Users can compare death risks at different ages clearly.\n",
    "#     The overlayed lines highlight how risk levels vary across age groups.\n",
    "#     The legend and colors make it easy to differentiate causes.\n"
   ]
  }
 ],
 "metadata": {
  "kernelspec": {
   "display_name": "venv",
   "language": "python",
   "name": "python3"
  },
  "language_info": {
   "codemirror_mode": {
    "name": "ipython",
    "version": 3
   },
   "file_extension": ".py",
   "mimetype": "text/x-python",
   "name": "python",
   "nbconvert_exporter": "python",
   "pygments_lexer": "ipython3",
   "version": "3.11.0"
  }
 },
 "nbformat": 4,
 "nbformat_minor": 2
}
